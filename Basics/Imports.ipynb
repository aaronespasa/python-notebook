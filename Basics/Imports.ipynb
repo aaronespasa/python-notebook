{
 "cells": [
  {
   "cell_type": "markdown",
   "metadata": {},
   "source": [
    "<code>import module</code>\n",
    "##### A module is just a collection of variables defined by someone else\n",
    "<code>dir(module)</code> : See all the names of the variables\n",
    "<code>dir(module.submodule)</code> : See all the names of the variables of the variable of a module\n",
    "\n",
    "We can access these variables using dot syntax.\n",
    "(E.g. <code>math.pi</code>)"
   ]
  },
  {
   "cell_type": "code",
   "execution_count": 1,
   "metadata": {},
   "outputs": [
    {
     "name": "stdout",
     "output_type": "stream",
     "text": [
      "pi to 4 significant digits = 3.142\n"
     ]
    }
   ],
   "source": [
    "import math\n",
    "\n",
    "print(\"pi to 4 significant digits = {:.4}\".format(math.pi))"
   ]
  },
  {
   "cell_type": "markdown",
   "metadata": {},
   "source": [
    "##### Add an alias to the imported method\n",
    "<code>import numpy as np</code>\n",
    "\n",
    "##### Makes the module's variables directly accessible to you\n",
    "<code>from module import log, pi</code> : You can import all with <code>*</code> but you have to keep in mind that some variables of a module could coincide with the variables of other modules."
   ]
  },
  {
   "cell_type": "code",
   "execution_count": null,
   "metadata": {},
   "outputs": [],
   "source": []
  }
 ],
 "metadata": {
  "kernelspec": {
   "display_name": "Python 3",
   "language": "python",
   "name": "python3"
  },
  "language_info": {
   "codemirror_mode": {
    "name": "ipython",
    "version": 3
   },
   "file_extension": ".py",
   "mimetype": "text/x-python",
   "name": "python",
   "nbconvert_exporter": "python",
   "pygments_lexer": "ipython3",
   "version": "3.7.3"
  }
 },
 "nbformat": 4,
 "nbformat_minor": 2
}
