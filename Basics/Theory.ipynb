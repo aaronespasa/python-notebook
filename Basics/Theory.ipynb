{
 "cells": [
  {
   "cell_type": "markdown",
   "metadata": {},
   "source": [
    "# Python\n",
    "* What is Python?\n",
    "* Python's characteristics\n",
    "* Components of a program\n",
    "* Data types in Python\n",
    "* Storing data into memory: variables and constants\n",
    "* Our first Python program: storing data into memory\n",
    "* Instructions: output (printing data)\n",
    "* Instructions: operators\n",
    "* Instructions: input (keyboard) and random numbers\n",
    "* Comments"
   ]
  },
  {
   "cell_type": "markdown",
   "metadata": {},
   "source": [
    "## Intro to Python\n",
    "* High-level object-oriented open-source language\n",
    "* Created by Guido Van Rossum in 1991\n",
    "* Influenced by ABC and Modula-3\n",
    "* Story behind the name: Monty Python's Flying Circus"
   ]
  },
  {
   "cell_type": "markdown",
   "metadata": {},
   "source": [
    "## Python characteristics\n",
    "* General purpose\n",
    "* Easy to learn and to use\n",
    "* Object-oriented but also supports structured and functional programming\n",
    "* **Interpreted**\n",
    "* **Case sensitive** (red != Red)\n",
    "* **Indentation sensitive**\n",
    "* **Dynamically typed**\n",
    "* **Garbage-collected** (Don't need to worry about memory, this can lead to some performance problems)\n",
    "* Large standard library\n",
    "* Extensible (You can create your own python version like Cython)\n",
    "* Many different interpreters for many operating systems (CPython is the \"official\" open-source one, IPython is the Spyder interpreter)\n",
    "* Ideal language for scripting and rapid application development\n",
    "* Philosophy: There should be one-and preferably only one-obvious way to do it"
   ]
  },
  {
   "cell_type": "markdown",
   "metadata": {},
   "source": [
    "## Python versions\n",
    "* 0.9.0 (1991)\n",
    "* 1.0 (1994) Includes functional features\n",
    "* 2.7 (2009) Last 2.X version, support until 2020\n",
    "* 3.0 (2008) Not backwards compatible\n",
    "* 3.8 (2020) Last version"
   ]
  },
  {
   "cell_type": "markdown",
   "metadata": {},
   "source": [
    "## Components of a program\n",
    "* Program = data + algorithm (instructions) + comments \n",
    "* Types of data (lesson 3)\n",
    "* Types of instructions: Operators + control flow statements + I/O instructions\n",
    "* Types of data that can be used in a program, how to store them in memory, how to print them, how to operate with them, how to ask the user new data, how to generate random data"
   ]
  },
  {
   "cell_type": "markdown",
   "metadata": {},
   "source": [
    "## Data types\n",
    "* Basic data types: numbers, text (string), booleans (logical)\n",
    "\n",
    "### Numbers\n",
    "* 3 types of numbers:\n",
    "    - Integers\n",
    "    - Float (2.4, -3.6)\n",
    "    - Complex (3+4j, -2.1+54j)\n",
    "\n",
    "#### Integers\n",
    "* Type int\n",
    "* Only one integer type despite the size of the number\n",
    "* Maximum size depends only on the available memory\n",
    "* Examples: 1, 2, -1, 943_284_420\n",
    "\n",
    "#### Float\n",
    "* Type float\n",
    "* We use the decimal point\n",
    "* Stored always in 64 bits, despite the type of OS or available memory\n",
    "* Range: as small as +-4.9E-324 and as big as +-1.79769313486231570E+308\n",
    "* But there is a precission issue, no more than 15-16 digits are stored: 1234567890123456.0 == 123456789012345687.0\n",
    "\n",
    "#### Complex\n",
    "* Type complex\n",
    "* Examples: 3+4j\n",
    "\n",
    "### Boolean\n",
    "* Type bool\n",
    "* Stores things that are True or False\n",
    "* There is some compatibility with 0 and 1, but True and False should be used\n",
    "\n",
    "### String \n",
    "* Type str\n",
    "* A sequence of characters\n",
    "* Escape sequences:\n",
    "    - \\b --> Backspace\n",
    "    - \\t --> Tab\n",
    "    - \\r --> Return\n",
    "    - \\n --> New line\n",
    "    - \\' --> Single quote '\n",
    "    - \\\" --> Double quote \"\n",
    "    - \\ \\ --> Backslash \\\n",
    "* Examples: \"this is a string\", 'but this is also a string'. \"\"\"This is a string that uses more than one line\"\"\""
   ]
  },
  {
   "cell_type": "markdown",
   "metadata": {},
   "source": [
    "## Storing data into memory: Variables\n",
    "* A variable is a memory position with a name that stores a given datum\n",
    "* To store something into memory we need to declare and initialize a variable\n",
    "* Inferred type: The type of the variable is deduced by the type of datum it contains\n",
    "* You can use the type() function to know the type of a variable\n",
    "* Dynamic typing: The type of a variable can be changed in the program\n",
    "* You cannot declare a variable if you don't assign a value to it\n",
    "* If you use an empty variable you can use variable = None"
   ]
  },
  {
   "cell_type": "markdown",
   "metadata": {},
   "source": [
    "### Rules for variable names\n",
    "* Must start by letter of _\n",
    "* After that: letter or number\n",
    "* Case sensitive\n",
    "* Use meaningful names\n",
    "* By convention: start by a letter, use small caps, and if you use more than one word, use _, but do not start by _\n",
    "* You can also use what is called lower camelCase: instead of using _ to separate different words, you start every new word by a capital letter\n",
    "* There are some forbidden words (for, while, if, list, typle, int, str)"
   ]
  },
  {
   "cell_type": "code",
   "execution_count": 10,
   "metadata": {},
   "outputs": [
    {
     "ename": "NameError",
     "evalue": "name 'false' is not defined",
     "output_type": "error",
     "traceback": [
      "\u001b[1;31m---------------------------------------------------------------------------\u001b[0m",
      "\u001b[1;31mNameError\u001b[0m                                 Traceback (most recent call last)",
      "\u001b[1;32m<ipython-input-10-c8b451776b28>\u001b[0m in \u001b[0;36m<module>\u001b[1;34m\u001b[0m\n\u001b[1;32m----> 1\u001b[1;33m \u001b[0mb35\u001b[0m \u001b[1;33m=\u001b[0m \u001b[0mfalse\u001b[0m\u001b[1;33m\u001b[0m\u001b[1;33m\u001b[0m\u001b[0m\n\u001b[0m",
      "\u001b[1;31mNameError\u001b[0m: name 'false' is not defined"
     ]
    }
   ],
   "source": []
  },
  {
   "cell_type": "code",
   "execution_count": null,
   "metadata": {},
   "outputs": [],
   "source": []
  }
 ],
 "metadata": {
  "kernelspec": {
   "display_name": "Python 3",
   "language": "python",
   "name": "python3"
  },
  "language_info": {
   "codemirror_mode": {
    "name": "ipython",
    "version": 3
   },
   "file_extension": ".py",
   "mimetype": "text/x-python",
   "name": "python",
   "nbconvert_exporter": "python",
   "pygments_lexer": "ipython3",
   "version": "3.8.3"
  }
 },
 "nbformat": 4,
 "nbformat_minor": 4
}
