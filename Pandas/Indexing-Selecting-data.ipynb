{
 "cells": [
  {
   "cell_type": "code",
   "execution_count": 2,
   "metadata": {},
   "outputs": [],
   "source": [
    "import pandas as pd\n",
    "import numpy as np\n",
    "\n",
    "class color:\n",
    "    BOLD = '\\033[1m'\n",
    "    CYAN = '\\033[96m'"
   ]
  },
  {
   "cell_type": "code",
   "execution_count": 3,
   "metadata": {
    "scrolled": true
   },
   "outputs": [
    {
     "name": "stdout",
     "output_type": "stream",
     "text": [
      "\u001b[1m                    A         B         C         D\n",
      "2018-01-31  0.758382 -0.246323 -1.019489 -0.425718\n",
      "2018-02-28  0.486131  0.831800 -0.563784 -0.335895\n",
      "2018-03-31 -0.456077 -0.083808 -0.197743 -0.209686\n",
      "2018-04-30 -0.144154  1.254693  1.997075  1.704234\n",
      "2018-05-31 -0.971981  0.622208 -0.017082  0.350343\n",
      "2018-06-30  0.025314  0.329782 -0.643223  0.491544\n"
     ]
    }
   ],
   "source": [
    "# Create an array with the last day of each month\n",
    "dates = pd.date_range(start='1/1/2018', periods=6, freq='M')\n",
    "\n",
    "# Create a DataFrame with 12 rows and 4 columns\n",
    "df = pd.DataFrame(np.random.randn(6, 4),\n",
    "                 index=dates,\n",
    "                 columns=['A','B','C','D'])\n",
    "\n",
    "print(color.BOLD, df)"
   ]
  },
  {
   "cell_type": "markdown",
   "metadata": {},
   "source": [
    "### Indexing using <code>[]</code> :"
   ]
  },
  {
   "cell_type": "code",
   "execution_count": 4,
   "metadata": {},
   "outputs": [
    {
     "name": "stdout",
     "output_type": "stream",
     "text": [
      "-0.4560766296272373\n"
     ]
    }
   ],
   "source": [
    "# Assign column A to column_a\n",
    "column_a = df['A']\n",
    "# Select the third row (dates[2] of column_a)\n",
    "print(column_a[dates[2]])"
   ]
  },
  {
   "cell_type": "code",
   "execution_count": 5,
   "metadata": {},
   "outputs": [
    {
     "name": "stdout",
     "output_type": "stream",
     "text": [
      "                   A         B\n",
      "2018-01-31 -0.246323  0.758382\n",
      "2018-02-28  0.831800  0.486131\n",
      "2018-03-31 -0.083808 -0.456077\n",
      "2018-04-30  1.254693 -0.144154\n",
      "2018-05-31  0.622208 -0.971981\n",
      "2018-06-30  0.329782  0.025314\n",
      "                   A         B\n",
      "2018-01-31 -0.246323  0.758382\n",
      "2018-02-28  0.831800  0.486131\n",
      "2018-03-31 -0.083808 -0.456077\n",
      "2018-04-30  1.254693 -0.144154\n",
      "2018-05-31  0.622208 -0.971981\n",
      "2018-06-30  0.329782  0.025314\n"
     ]
    }
   ],
   "source": [
    "# Change columns\n",
    "df[['B', 'A']] = df[['A', 'B']]\n",
    "\n",
    "#Print 2 columns using a named index\n",
    "print(df[['A', 'B']])\n",
    "\n",
    "#Print 2 columns using numerically index\n",
    "print(df.iloc[:,0:2])"
   ]
  },
  {
   "cell_type": "markdown",
   "metadata": {},
   "source": [
    "### Indexing using attribute access <code>.</code> :"
   ]
  },
  {
   "cell_type": "code",
   "execution_count": 6,
   "metadata": {},
   "outputs": [
    {
     "name": "stdout",
     "output_type": "stream",
     "text": [
      "a    5\n",
      "b    2\n",
      "c    3\n",
      "dtype: int64\n",
      "\n",
      "Value on index 'b': 2\n"
     ]
    }
   ],
   "source": [
    "# Create a Series\n",
    "sa = pd.Series([1, 2, 3], index = list('abc'))\n",
    "\n",
    "# Change the value of index 'A' to 5\n",
    "sa.a = 5\n",
    "\n",
    "print(sa,\n",
    "      'Value on index \\'b\\': {}'.format( sa.b ),\n",
    "      sep=\"\\n\\n\")"
   ]
  },
  {
   "cell_type": "code",
   "execution_count": 7,
   "metadata": {},
   "outputs": [
    {
     "name": "stdout",
     "output_type": "stream",
     "text": [
      "2018-01-31    0\n",
      "2018-02-28    1\n",
      "2018-03-31    2\n",
      "2018-04-30    3\n",
      "2018-05-31    4\n",
      "2018-06-30    5\n",
      "Freq: M, Name: A, dtype: int64\n",
      "\n",
      "2018-01-31    0.758382\n",
      "2018-02-28    0.486131\n",
      "2018-03-31   -0.456077\n",
      "2018-04-30   -0.144154\n",
      "2018-05-31   -0.971981\n",
      "2018-06-30    0.025314\n",
      "Freq: M, Name: B, dtype: float64\n"
     ]
    }
   ],
   "source": [
    "df1 = df.copy()\n",
    "\n",
    "# Change values of column A\n",
    "df1.A = list(range(len(df.index)))\n",
    "\n",
    "# Print columns A and B from df\n",
    "print(df1.A, df1.B, sep=\"\\n\\n\")"
   ]
  },
  {
   "cell_type": "markdown",
   "metadata": {},
   "source": [
    "### <code>.loc</code> & <code>.iloc</code> for indexing"
   ]
  },
  {
   "cell_type": "markdown",
   "metadata": {},
   "source": [
    ".loc is for selecting things by label\n",
    "\n",
    "<code>def.loc[row_index, columns_index]</code> #Both are inclusive"
   ]
  },
  {
   "cell_type": "code",
   "execution_count": 8,
   "metadata": {},
   "outputs": [
    {
     "data": {
      "text/html": [
       "<div>\n",
       "<style scoped>\n",
       "    .dataframe tbody tr th:only-of-type {\n",
       "        vertical-align: middle;\n",
       "    }\n",
       "\n",
       "    .dataframe tbody tr th {\n",
       "        vertical-align: top;\n",
       "    }\n",
       "\n",
       "    .dataframe thead th {\n",
       "        text-align: right;\n",
       "    }\n",
       "</style>\n",
       "<table border=\"1\" class=\"dataframe\">\n",
       "  <thead>\n",
       "    <tr style=\"text-align: right;\">\n",
       "      <th></th>\n",
       "      <th>A</th>\n",
       "      <th>B</th>\n",
       "      <th>C</th>\n",
       "    </tr>\n",
       "  </thead>\n",
       "  <tbody>\n",
       "    <tr>\n",
       "      <th>2018-01-31</th>\n",
       "      <td>-0.246323</td>\n",
       "      <td>0.758382</td>\n",
       "      <td>-1.019489</td>\n",
       "    </tr>\n",
       "    <tr>\n",
       "      <th>2018-02-28</th>\n",
       "      <td>0.831800</td>\n",
       "      <td>0.486131</td>\n",
       "      <td>-0.563784</td>\n",
       "    </tr>\n",
       "    <tr>\n",
       "      <th>2018-03-31</th>\n",
       "      <td>-0.083808</td>\n",
       "      <td>-0.456077</td>\n",
       "      <td>-0.197743</td>\n",
       "    </tr>\n",
       "  </tbody>\n",
       "</table>\n",
       "</div>"
      ],
      "text/plain": [
       "                   A         B         C\n",
       "2018-01-31 -0.246323  0.758382 -1.019489\n",
       "2018-02-28  0.831800  0.486131 -0.563784\n",
       "2018-03-31 -0.083808 -0.456077 -0.197743"
      ]
     },
     "execution_count": 8,
     "metadata": {},
     "output_type": "execute_result"
    }
   ],
   "source": [
    "df.loc[:'2018-03-31', ['A','B','C']]"
   ]
  },
  {
   "cell_type": "markdown",
   "metadata": {},
   "source": [
    ".iloc is for selecting things by number\n",
    "\n",
    "<code>def.iloc[row_index, columns_index]</code> # The first number is inclusive, the second is exclusive (e.g. 2:4 -> 2 is inclusive, 4 is exclusive)"
   ]
  },
  {
   "cell_type": "code",
   "execution_count": 9,
   "metadata": {},
   "outputs": [
    {
     "data": {
      "text/html": [
       "<div>\n",
       "<style scoped>\n",
       "    .dataframe tbody tr th:only-of-type {\n",
       "        vertical-align: middle;\n",
       "    }\n",
       "\n",
       "    .dataframe tbody tr th {\n",
       "        vertical-align: top;\n",
       "    }\n",
       "\n",
       "    .dataframe thead th {\n",
       "        text-align: right;\n",
       "    }\n",
       "</style>\n",
       "<table border=\"1\" class=\"dataframe\">\n",
       "  <thead>\n",
       "    <tr style=\"text-align: right;\">\n",
       "      <th></th>\n",
       "      <th>B</th>\n",
       "      <th>C</th>\n",
       "    </tr>\n",
       "  </thead>\n",
       "  <tbody>\n",
       "    <tr>\n",
       "      <th>2018-01-31</th>\n",
       "      <td>0.758382</td>\n",
       "      <td>-1.019489</td>\n",
       "    </tr>\n",
       "    <tr>\n",
       "      <th>2018-02-28</th>\n",
       "      <td>0.486131</td>\n",
       "      <td>-0.563784</td>\n",
       "    </tr>\n",
       "    <tr>\n",
       "      <th>2018-03-31</th>\n",
       "      <td>-0.456077</td>\n",
       "      <td>-0.197743</td>\n",
       "    </tr>\n",
       "  </tbody>\n",
       "</table>\n",
       "</div>"
      ],
      "text/plain": [
       "                   B         C\n",
       "2018-01-31  0.758382 -1.019489\n",
       "2018-02-28  0.486131 -0.563784\n",
       "2018-03-31 -0.456077 -0.197743"
      ]
     },
     "execution_count": 9,
     "metadata": {},
     "output_type": "execute_result"
    }
   ],
   "source": [
    "df.iloc[:3, 1:3]"
   ]
  },
  {
   "cell_type": "markdown",
   "metadata": {},
   "source": [
    "For getting values with a boolean array:"
   ]
  },
  {
   "cell_type": "code",
   "execution_count": 16,
   "metadata": {},
   "outputs": [
    {
     "data": {
      "text/html": [
       "<div>\n",
       "<style scoped>\n",
       "    .dataframe tbody tr th:only-of-type {\n",
       "        vertical-align: middle;\n",
       "    }\n",
       "\n",
       "    .dataframe tbody tr th {\n",
       "        vertical-align: top;\n",
       "    }\n",
       "\n",
       "    .dataframe thead th {\n",
       "        text-align: right;\n",
       "    }\n",
       "</style>\n",
       "<table border=\"1\" class=\"dataframe\">\n",
       "  <thead>\n",
       "    <tr style=\"text-align: right;\">\n",
       "      <th></th>\n",
       "      <th>A</th>\n",
       "      <th>B</th>\n",
       "      <th>C</th>\n",
       "    </tr>\n",
       "  </thead>\n",
       "  <tbody>\n",
       "    <tr>\n",
       "      <th>2018-01-31</th>\n",
       "      <td>False</td>\n",
       "      <td>True</td>\n",
       "      <td>False</td>\n",
       "    </tr>\n",
       "    <tr>\n",
       "      <th>2018-02-28</th>\n",
       "      <td>True</td>\n",
       "      <td>True</td>\n",
       "      <td>False</td>\n",
       "    </tr>\n",
       "    <tr>\n",
       "      <th>2018-03-31</th>\n",
       "      <td>False</td>\n",
       "      <td>False</td>\n",
       "      <td>False</td>\n",
       "    </tr>\n",
       "  </tbody>\n",
       "</table>\n",
       "</div>"
      ],
      "text/plain": [
       "                A      B      C\n",
       "2018-01-31  False   True  False\n",
       "2018-02-28   True   True  False\n",
       "2018-03-31  False  False  False"
      ]
     },
     "execution_count": 16,
     "metadata": {},
     "output_type": "execute_result"
    }
   ],
   "source": [
    "df.iloc[:3, :3] > 0"
   ]
  },
  {
   "cell_type": "markdown",
   "metadata": {},
   "source": [
    "### Indexing with <code>isin</code>"
   ]
  },
  {
   "cell_type": "code",
   "execution_count": 18,
   "metadata": {},
   "outputs": [
    {
     "name": "stdout",
     "output_type": "stream",
     "text": [
      "   vals ids ids2\n",
      "0     1   a    a\n",
      "1     2   b    n\n",
      "2     3   f    c\n",
      "3     4   n    n\n"
     ]
    }
   ],
   "source": [
    "df2 = pd.DataFrame({'vals': [1, 2, 3, 4], 'ids': ['a', 'b', 'f', 'n'],\n",
    "                    'ids2': ['a', 'n', 'c', 'n']})\n",
    "print(df2)"
   ]
  },
  {
   "cell_type": "code",
   "execution_count": 20,
   "metadata": {},
   "outputs": [
    {
     "data": {
      "text/html": [
       "<div>\n",
       "<style scoped>\n",
       "    .dataframe tbody tr th:only-of-type {\n",
       "        vertical-align: middle;\n",
       "    }\n",
       "\n",
       "    .dataframe tbody tr th {\n",
       "        vertical-align: top;\n",
       "    }\n",
       "\n",
       "    .dataframe thead th {\n",
       "        text-align: right;\n",
       "    }\n",
       "</style>\n",
       "<table border=\"1\" class=\"dataframe\">\n",
       "  <thead>\n",
       "    <tr style=\"text-align: right;\">\n",
       "      <th></th>\n",
       "      <th>vals</th>\n",
       "      <th>ids</th>\n",
       "      <th>ids2</th>\n",
       "    </tr>\n",
       "  </thead>\n",
       "  <tbody>\n",
       "    <tr>\n",
       "      <th>0</th>\n",
       "      <td>True</td>\n",
       "      <td>True</td>\n",
       "      <td>True</td>\n",
       "    </tr>\n",
       "    <tr>\n",
       "      <th>1</th>\n",
       "      <td>False</td>\n",
       "      <td>True</td>\n",
       "      <td>False</td>\n",
       "    </tr>\n",
       "    <tr>\n",
       "      <th>2</th>\n",
       "      <td>True</td>\n",
       "      <td>False</td>\n",
       "      <td>False</td>\n",
       "    </tr>\n",
       "    <tr>\n",
       "      <th>3</th>\n",
       "      <td>False</td>\n",
       "      <td>False</td>\n",
       "      <td>False</td>\n",
       "    </tr>\n",
       "  </tbody>\n",
       "</table>\n",
       "</div>"
      ],
      "text/plain": [
       "    vals    ids   ids2\n",
       "0   True   True   True\n",
       "1  False   True  False\n",
       "2   True  False  False\n",
       "3  False  False  False"
      ]
     },
     "execution_count": 20,
     "metadata": {},
     "output_type": "execute_result"
    }
   ],
   "source": [
    "values = ['a', 'b', 1, 3]\n",
    "\n",
    "df2.isin(values)"
   ]
  },
  {
   "cell_type": "code",
   "execution_count": null,
   "metadata": {},
   "outputs": [],
   "source": []
  }
 ],
 "metadata": {
  "kernelspec": {
   "display_name": "Python 3",
   "language": "python",
   "name": "python3"
  },
  "language_info": {
   "codemirror_mode": {
    "name": "ipython",
    "version": 3
   },
   "file_extension": ".py",
   "mimetype": "text/x-python",
   "name": "python",
   "nbconvert_exporter": "python",
   "pygments_lexer": "ipython3",
   "version": "3.7.3"
  }
 },
 "nbformat": 4,
 "nbformat_minor": 2
}
