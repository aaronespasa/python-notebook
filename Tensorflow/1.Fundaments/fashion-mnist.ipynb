{
 "cells": [
  {
   "cell_type": "code",
   "execution_count": 1,
   "metadata": {},
   "outputs": [],
   "source": [
    "import tensorflow as tf\n",
    "from tensorflow import keras\n",
    "from tensorflow.keras.layers import Flatten, Dense, Conv2D, MaxPooling2D"
   ]
  },
  {
   "cell_type": "code",
   "execution_count": 4,
   "metadata": {},
   "outputs": [
    {
     "name": "stdout",
     "output_type": "stream",
     "text": [
      "[PhysicalDevice(name='/physical_device:GPU:0', device_type='GPU')]\n",
      "GPU is available\n"
     ]
    }
   ],
   "source": [
    "from tensorflow.python.client import device_lib\n",
    "\n",
    "print(tf.config.list_physical_devices('GPU'))\n",
    "print(\"GPU is\", \"available\" if tf.test.is_gpu_available() else \"not available\")"
   ]
  },
  {
   "cell_type": "code",
   "execution_count": 3,
   "metadata": {},
   "outputs": [],
   "source": [
    "# Fashion MNIST:\n",
    "# https://github.com/zalandoresearch/fashion-mnist\n",
    "\n",
    "fashion_mnist = keras.datasets.fashion_mnist\n",
    "(train_images, train_labels), (test_images, test_labels) = fashion_mnist.load_data()\n",
    "\n",
    "train_images = train_images.reshape(60000, 28, 28, 1)\n",
    "train_images = train_images / 255.0\n",
    "\n",
    "test_images = test_images.reshape(10000, 28, 28, 1)\n",
    "test_images = test_images / 255.0"
   ]
  },
  {
   "cell_type": "code",
   "execution_count": 4,
   "metadata": {},
   "outputs": [],
   "source": [
    "class myCallback(tf.keras.callbacks.Callback):\n",
    "    def on_epoch_end(self, epoch, logs={}):\n",
    "        if(logs.get('acc') is not None and logs.get('acc') >= 0.998) :\n",
    "          print(\"\\nReached 99.8% accuracy so cancelling training!\")\n",
    "          self.model.stop_training = True"
   ]
  },
  {
   "cell_type": "code",
   "execution_count": 5,
   "metadata": {},
   "outputs": [],
   "source": [
    "def create_model():\n",
    "  # Sequential defines a sequence of layers in the nn\n",
    "  model = keras.Sequential([\n",
    "      # Shape of images after Conv2D layer: (26, 26)\n",
    "      Conv2D(64, (3, 3), activation='relu', input_shape=(28, 28, 1)),\n",
    "      \n",
    "      # Shape of images after MaxPooling2D: (13, 13)\n",
    "      MaxPooling2D(2, 2),\n",
    "      \n",
    "      # The flatten layer takes the 28 by 28 matrix\n",
    "      # and turn it into a single array\n",
    "      Flatten(),\n",
    "      Dense(128, activation='relu'),\n",
    "\n",
    "      # The following layer has 10 units because there are\n",
    "      # 10 classes. To classify multiple objects\n",
    "      # we use the activation function softmax\n",
    "      Dense(10, activation='softmax')\n",
    "  ])\n",
    "  \n",
    "  model.compile(\n",
    "    optimizer = 'adam',\n",
    "    loss = 'sparse_categorical_crossentropy',\n",
    "    metrics=['accuracy']\n",
    "  )\n",
    "\n",
    "  return model"
   ]
  },
  {
   "cell_type": "code",
   "execution_count": 6,
   "metadata": {},
   "outputs": [
    {
     "name": "stdout",
     "output_type": "stream",
     "text": [
      "Train on 60000 samples\n",
      "Epoch 1/15\n",
      "60000/60000 [==============================] - 9s 152us/sample - loss: 0.3790 - accuracy: 0.8652\n",
      "Epoch 2/15\n",
      "60000/60000 [==============================] - 7s 121us/sample - loss: 0.2555 - accuracy: 0.9065\n",
      "Epoch 3/15\n",
      "60000/60000 [==============================] - 7s 121us/sample - loss: 0.2102 - accuracy: 0.9224\n",
      "Epoch 4/15\n",
      "60000/60000 [==============================] - 7s 121us/sample - loss: 0.1763 - accuracy: 0.9343\n",
      "Epoch 5/15\n",
      "60000/60000 [==============================] - 7s 120us/sample - loss: 0.1480 - accuracy: 0.9452\n",
      "Epoch 6/15\n",
      "60000/60000 [==============================] - 7s 123us/sample - loss: 0.1222 - accuracy: 0.9549\n",
      "Epoch 7/15\n",
      "60000/60000 [==============================] - 7s 124us/sample - loss: 0.1029 - accuracy: 0.9614\n",
      "Epoch 8/15\n",
      "60000/60000 [==============================] - 8s 128us/sample - loss: 0.0843 - accuracy: 0.9686\n",
      "Epoch 9/15\n",
      "60000/60000 [==============================] - 8s 130us/sample - loss: 0.0697 - accuracy: 0.9744\n",
      "Epoch 10/15\n",
      "60000/60000 [==============================] - 8s 132us/sample - loss: 0.0586 - accuracy: 0.9782\n",
      "Epoch 11/15\n",
      "60000/60000 [==============================] - 8s 128us/sample - loss: 0.0485 - accuracy: 0.9825\n",
      "Epoch 12/15\n",
      "60000/60000 [==============================] - 8s 131us/sample - loss: 0.0416 - accuracy: 0.9854\n",
      "Epoch 13/15\n",
      "60000/60000 [==============================] - 8s 129us/sample - loss: 0.0364 - accuracy: 0.9867\n",
      "Epoch 14/15\n",
      "60000/60000 [==============================] - 8s 127us/sample - loss: 0.0318 - accuracy: 0.9887\n",
      "Epoch 15/15\n",
      "60000/60000 [==============================] - 8s 130us/sample - loss: 0.0273 - accuracy: 0.9904\n"
     ]
    }
   ],
   "source": [
    "# Create a basic model instance\n",
    "model = create_model()\n",
    "\n",
    "callbacks = myCallback()\n",
    "\n",
    "with tf.device('/gpu:0'):\n",
    "    model.fit(train_images, train_labels, epochs=15, callbacks=[callbacks])"
   ]
  },
  {
   "cell_type": "code",
   "execution_count": 7,
   "metadata": {},
   "outputs": [
    {
     "name": "stdout",
     "output_type": "stream",
     "text": [
      "Model: \"sequential\"\n",
      "_________________________________________________________________\n",
      "Layer (type)                 Output Shape              Param #   \n",
      "=================================================================\n",
      "conv2d (Conv2D)              (None, 26, 26, 64)        640       \n",
      "_________________________________________________________________\n",
      "max_pooling2d (MaxPooling2D) (None, 13, 13, 64)        0         \n",
      "_________________________________________________________________\n",
      "flatten (Flatten)            (None, 10816)             0         \n",
      "_________________________________________________________________\n",
      "dense (Dense)                (None, 128)               1384576   \n",
      "_________________________________________________________________\n",
      "dense_1 (Dense)              (None, 10)                1290      \n",
      "=================================================================\n",
      "Total params: 1,386,506\n",
      "Trainable params: 1,386,506\n",
      "Non-trainable params: 0\n",
      "_________________________________________________________________\n"
     ]
    }
   ],
   "source": [
    "# Display the model's architecture\n",
    "model.summary()"
   ]
  },
  {
   "cell_type": "code",
   "execution_count": 8,
   "metadata": {},
   "outputs": [
    {
     "name": "stdout",
     "output_type": "stream",
     "text": [
      "10000/10000 [==============================] - 1s 115us/sample - loss: 0.4721 - accuracy: 0.9143\n"
     ]
    },
    {
     "data": {
      "text/plain": [
       "[0.47211130201406776, 0.9143]"
      ]
     },
     "execution_count": 8,
     "metadata": {},
     "output_type": "execute_result"
    }
   ],
   "source": [
    "model.evaluate(test_images, test_labels)"
   ]
  },
  {
   "cell_type": "code",
   "execution_count": null,
   "metadata": {},
   "outputs": [],
   "source": []
  }
 ],
 "metadata": {
  "kernelspec": {
   "display_name": "Python 3",
   "language": "python",
   "name": "python3"
  },
  "language_info": {
   "codemirror_mode": {
    "name": "ipython",
    "version": 3
   },
   "file_extension": ".py",
   "mimetype": "text/x-python",
   "name": "python",
   "nbconvert_exporter": "python",
   "pygments_lexer": "ipython3",
   "version": "3.7.9"
  }
 },
 "nbformat": 4,
 "nbformat_minor": 4
}
