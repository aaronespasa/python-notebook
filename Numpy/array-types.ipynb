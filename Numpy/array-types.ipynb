{
 "cells": [
  {
   "cell_type": "code",
   "execution_count": 14,
   "metadata": {},
   "outputs": [
    {
     "name": "stdout",
     "output_type": "stream",
     "text": [
      "Array of all zeros -> a0: \n",
      "[[0. 0.]\n",
      " [0. 0.]]\n",
      "\n",
      "Array of all ones -> a1: \n",
      "[[1. 1.]]\n",
      "\n",
      "Constant array -> a_full: \n",
      "[[7 7 7]\n",
      " [7 7 7]]\n",
      "\n",
      "Identity matriz -> a_identity: \n",
      "[[1. 0. 0.]\n",
      " [0. 1. 0.]\n",
      " [0. 0. 1.]]\n",
      "\n",
      "Array filles with random values -> a_random: \n",
      "[[0.81598014 0.67035318]\n",
      " [0.96015963 0.4166099 ]]\n",
      "\n",
      "Arange array -> a_arange: \n",
      "[ 5  9 13 17 21 25 29 33 37 41 45 49]\n",
      "\n",
      "Linspace array -> a_linspace: \n",
      "[0. 1. 2. 3. 4. 5.]\n"
     ]
    }
   ],
   "source": [
    "import numpy as np\n",
    "\n",
    "a0 = np.zeros((2,2)) # Create an array of all zeros\n",
    "\n",
    "a1 = np.ones((1,2)) # Create an array of all ones\n",
    "\n",
    "a_full = np.full((2,3), 7) # Create a constant array\n",
    "\n",
    "a_identity = np.eye(3) # Create a 3x3 identity matrix\n",
    "\n",
    "a_random = np.random.random((2,2)) #Create an array filled with random values\n",
    "\n",
    "a_arange = np.arange(5,50,4) # arange([start,] stop[, step,], dtype=None)\n",
    "\n",
    "# linspace(start, stop, num=50) num ->Number of samples to generate. Default: 50. Must be non-negative\n",
    "a_linspace = np.linspace(0, 5, 6)\n",
    "\n",
    "print(\n",
    "\"Array of all zeros -> a0: \\n{}\".format(a0),\n",
    "\"Array of all ones -> a1: \\n{}\".format(a1),\n",
    "\"Constant array -> a_full: \\n{}\".format(a_full),\n",
    "\"Identity matriz -> a_identity: \\n{}\".format(a_identity),\n",
    "\"Array filles with random values -> a_random: \\n{}\".format(a_random),\n",
    "\"Arange array -> a_arange: \\n{}\".format(a_arange),\n",
    "\"Linspace array -> a_linspace: \\n{}\".format(a_linspace),\n",
    "sep=\"\\n\\n\"\n",
    ")"
   ]
  },
  {
   "cell_type": "code",
   "execution_count": null,
   "metadata": {},
   "outputs": [],
   "source": []
  }
 ],
 "metadata": {
  "kernelspec": {
   "display_name": "Python 3",
   "language": "python",
   "name": "python3"
  },
  "language_info": {
   "codemirror_mode": {
    "name": "ipython",
    "version": 3
   },
   "file_extension": ".py",
   "mimetype": "text/x-python",
   "name": "python",
   "nbconvert_exporter": "python",
   "pygments_lexer": "ipython3",
   "version": "3.7.3"
  }
 },
 "nbformat": 4,
 "nbformat_minor": 2
}
